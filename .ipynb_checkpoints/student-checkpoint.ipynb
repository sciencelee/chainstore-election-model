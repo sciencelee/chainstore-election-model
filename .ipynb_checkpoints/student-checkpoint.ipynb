{
 "cells": [
  {
   "cell_type": "markdown",
   "metadata": {},
   "source": [
    "## Final Project Submission\n",
    "\n",
    "* Student name: Aaron Lee\n",
    "* Student pace: self paced\n",
    "* Scheduled project review date/time: \n",
    "* Instructor name: Jeff Herman\n",
    "* Blog post 1: https://medium.com/@sciencelee/are-you-a-trader-joes-democrat-or-a-walmart-republican-a7b156131435 \n",
    "* Blog post 2: https://medium.com/@sciencelee/simple-example-using-boruta-feature-selection-in-python-8b96925d5d7a\n"
   ]
  },
  {
   "cell_type": "markdown",
   "metadata": {},
   "source": [
    "# Classifying Party Politics by the Presence of Chain Stores"
   ]
  },
  {
   "cell_type": "markdown",
   "metadata": {},
   "source": [
    "## Overview\n",
    "The chain stores found in a community can tell us a lot about the people that live there. Think about Target and Walmart; what political party do you associate with each? I wanted to investigate that perception, so I built an election model based solely on the number of chain stores in an area.\n",
    "\n",
    "My hypothesis is that the number of total chain stores can predict Democratic and Republican winners in political districts significantly better than guessing. Additionally, the particular chain store/brand will be an indicator of Republican or Democratic winners."
   ]
  },
  {
   "cell_type": "markdown",
   "metadata": {},
   "source": [
    "## Big Questions\n",
    "* How accurately can we predict party voting using only chain stores?\n",
    "* What stores have the greatest influence on our model?\n",
    "* What stores trend Democratic or Republican?\n",
    "* How do we apply this model toward future elections?\n",
    "\n",
    "\n"
   ]
  },
  {
   "cell_type": "markdown",
   "metadata": {},
   "source": [
    "## Content of This Project\n",
    "1. [Scraping and data gathering](http://url)\n",
    "2. [County feature building](http://url)\n",
    "3. [Final election model](http://url)\n",
    "\n",
    "Additionally, the original and engineered datasets are located in the /datasets folder in this repo."
   ]
  },
  {
   "cell_type": "markdown",
   "metadata": {},
   "source": [
    "## Our Data\n",
    "\n",
    "We built a single dataset which contains the following columns:\n",
    "- County FIPS code (used as the index)\n",
    "- Number of stores in the county\n",
    "- Election result (Democrat/Republican)\n",
    "- County Area\n",
    "- County Population \n",
    "\n",
    "Before building our single dataset for our model, we must also compile and use:\n",
    "- Data containing every location of 20 national chain stores (+45,000 stores in total)\n",
    "- Political boundary maps for counties and/or congressional districts US \n",
    "- Results of 2018 midterm election \n",
    "- Population and area of every county and congressional district with FIPS codes\n",
    "\n",
    "Resources: \n",
    "- Kaggle (Walmart, Starbucks, Target)\n",
    "- POI Factory website (Dollar Tree, Target, Harley Davidson, REI, Chick-Fil-A, Hobby Lobby, Bass Pro, Costco, \n",
    "- Web Scraping (H&M, Cracker Barrel, Tractor Supply Co., Trader Joe's, Pottery Barn\n",
    "- MIT Election Lab, data.gov and web scraping.  "
   ]
  },
  {
   "cell_type": "markdown",
   "metadata": {},
   "source": [
    "\n",
    "\n"
   ]
  }
 ],
 "metadata": {
  "kernelspec": {
   "display_name": "learn-env",
   "language": "python",
   "name": "learn-env"
  },
  "language_info": {
   "codemirror_mode": {
    "name": "ipython",
    "version": 3
   },
   "file_extension": ".py",
   "mimetype": "text/x-python",
   "name": "python",
   "nbconvert_exporter": "python",
   "pygments_lexer": "ipython3",
   "version": "3.6.9"
  }
 },
 "nbformat": 4,
 "nbformat_minor": 2
}
