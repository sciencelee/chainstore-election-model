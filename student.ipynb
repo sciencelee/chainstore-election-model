{
 "cells": [
  {
   "cell_type": "markdown",
   "metadata": {},
   "source": [
    "# Classifying Party Politics by the Presence of Chain Stores\n",
    "\n",
    "* Student name: Aaron Lee\n",
    "* Student pace: self paced\n",
    "* Scheduled project review date/time: 10/02: 3:00PM CDT\n",
    "* Instructor name: Jeff Herman\n",
    "* Blog post 1: https://medium.com/@sciencelee/are-you-a-trader-joes-democrat-or-a-walmart-republican-a7b156131435 \n",
    "* Blog post 2: https://medium.com/@sciencelee/simple-example-using-boruta-feature-selection-in-python-8b96925d5d7a\n"
   ]
  },
  {
   "cell_type": "markdown",
   "metadata": {},
   "source": [
    "\n",
    "## Overview\n",
    "The chain stores found in a community can tell us a lot about the people that live there. Think about Target and Walmart; what political party do you associate with each? I wanted to investigate that perception, so I built an election model based solely on the number of chain stores in an area.\n",
    "\n",
    "My hypothesis is that the number of total chain stores can predict Democratic and Republican winners in political districts significantly better than guessing. Additionally, the particular chain store/brand will be an indicator of Republican or Democratic winners.\n",
    "\n",
    "<img src='files/vote.png' width='600'>"
   ]
  },
  {
   "cell_type": "markdown",
   "metadata": {},
   "source": [
    "## Big Questions\n",
    "* How accurately can we predict party voting using only chain stores?\n",
    "* What stores have the greatest influence on our model?\n",
    "* What stores trend Democratic or Republican?\n",
    "* How do we apply this model toward future elections?\n",
    "\n",
    "\n"
   ]
  },
  {
   "cell_type": "markdown",
   "metadata": {},
   "source": [
    "## Content of This Project\n",
    "1. [Scraping and data gathering](http://url)\n",
    "2. [County feature building](http://url)\n",
    "3. [Final election model](http://url)\n",
    "\n",
    "Additionally, the original and engineered datasets are located in the /datasets folder in this repo."
   ]
  },
  {
   "cell_type": "markdown",
   "metadata": {},
   "source": [
    "## Our Data\n",
    "\n",
    "Our data investigates over 3000 US counties and over 45,000 retail location from 20 store chains.\n",
    "\n",
    "**We built a single dataset which contains the following columns:**\n",
    "- County FIPS code (used as the index)\n",
    "- Number of stores in the county\n",
    "- Election result (Democrat/Republican)\n",
    "- County Area\n",
    "- County Population \n",
    "\n",
    "**Before building our single dataset for our model, we must also compile and use:**\n",
    "- Data containing every location of 20 national chain stores \n",
    "- Political boundary maps for counties and/or congressional districts US \n",
    "- Results of 2018 midterm election \n",
    "- Population and area of every county and congressional district with FIPS codes\n",
    "\n",
    "**Resources**: \n",
    "- Kaggle (Walmart, Starbucks, Target)\n",
    "- POI Factory website (Dollar Tree, Target, Harley Davidson, REI, Chick-Fil-A, Hobby Lobby, Bass Pro, Costco, Dick's, Academy)\n",
    "- Web Scraping (H&M, Cracker Barrel, Tractor Supply Co., Trader Joe's, Pottery Barn, LL Bean, Grainger) \n",
    "- MIT Election Lab (2018 Midterm election results by county)\n",
    "- data.gov (population, area, FIPS codes, shape files)  "
   ]
  },
  {
   "cell_type": "markdown",
   "metadata": {},
   "source": [
    "## Creating our Dataset\n",
    "\n",
    "This was the most time consuming part of the project.  The data must be compiled from disparate sources and engineered into a single dataset suitable for our model.\n",
    "\n",
    "**Our Process for Building Dataset**\n",
    "1. Gather all of our store, geodata, and county data using existing datasets and scraping. \n",
    "2. Create a dataFrame with our polling data, and determine political party for each county.\n",
    "3. Add in columns for population and area of each county from data.gov data, and match up FIPS data used for mapping.\n",
    "4. Go through each of our 20 store datasets, and find the number of stores in each district.  Add it to our dataset\n",
    "5. Write all relevent data to file."
   ]
  },
  {
   "cell_type": "markdown",
   "metadata": {},
   "source": [
    "The graphic below shows the 20 store features selected for this project and the relative party distribution."
   ]
  },
  {
   "cell_type": "markdown",
   "metadata": {},
   "source": [
    "<img src=\"files/stores.png\">"
   ]
  },
  {
   "cell_type": "markdown",
   "metadata": {},
   "source": [
    "# Scaling\n",
    "\n",
    "When compiled, our dataset contains the number of stores in each county\n",
    "<img src=\"files/dfhead.png\">\n",
    "\n",
    "To make the features continuous and comparable, we divided the number of stores by the area of the county, effectively giving us a store per square mile dataset.  This helps to mitigate the disparity due to large counties that exist in the Western states."
   ]
  },
  {
   "cell_type": "markdown",
   "metadata": {},
   "source": [
    "# Feature Selection\n",
    "\n",
    "Features selection for this project was done using the Boruta library which works well for tree based models like XGBoost and Random Forest.  Boruta selected ten of the 20 features for our model.  My article [here](https://towardsdatascience.com/simple-example-using-boruta-feature-selection-in-python-8b96925d5d7a) describes the process"
   ]
  },
  {
   "cell_type": "markdown",
   "metadata": {},
   "source": [
    "# Our Model\n",
    "\n",
    "With our dataset preprocessed, we attempted several different ensemble models including XGBoost and Random Forest.\n",
    "\n",
    "The final model chosen was Random Forest with the following characteristics:\n",
    "- Data train test split of 0.25\n",
    "- 10 features (stores)\n",
    "- Weighted to account for the 80/20 GOP/Dem split in counties\n",
    "- Tuned for accuracy\n",
    "\n",
    "### Model accuracy: 85.3%\n",
    "\n",
    "Feature importance for our model is shown below.  After investigating individual trees in model, we determined which features were used to discriminate red/blue counties.  Colored boxes around feature represent the direction of the feature.\n",
    "\n",
    "<img src='files/feat.png'>\n"
   ]
  },
  {
   "cell_type": "markdown",
   "metadata": {},
   "source": [
    "## Our Model Prediction\n",
    "When using the model to predict every county in US, the map looks like the one below. \n",
    "\n",
    "\n",
    "<img src='files/pred.png' width='80%'>\n",
    "\n",
    "Compare to the actual results of the election\n",
    "<img src='files/actual.png' width='80%'>"
   ]
  },
  {
   "cell_type": "markdown",
   "metadata": {},
   "source": [
    "Details about the model performance and other factors can be found [here]('https://towardsdatascience.com/are-you-a-trader-joes-democrat-or-a-walmart-republican-a7b156131435?source=your_stories_page-------------------------------------')\n"
   ]
  },
  {
   "cell_type": "markdown",
   "metadata": {},
   "source": [
    "## Conclusion\n",
    "This model focuses on Democratic ‘upmarket’ retail (Whole Foods, Trader Joe’s, Starbucks)\n",
    "\n",
    "The model performs poorly in regions where other factors might be more important (demographics, unique candidates, regional leanings )\n",
    "\n",
    "Model Advantages\n",
    "- Independent of census or polling\n",
    "- Readily available data (updated more easily than polling or census)\n",
    "- Responds to demographic changes \n",
    "\n",
    "## Future Use\n",
    "This method can be improved through the following methods:\n",
    "- Build several smaller targeted models based on regional or more homogenous voting blocks (Midwest, Arizona/New Mexico, California, Pacific Northwest, Florida etc.)\n",
    "- Evaluate data at the state level, congressional district level, or down to the precinct level with similar methodology. A preliminary model at the congressional district level predicted US House races with over 80% accuracy.\n",
    "- Add or change features that target the shortcomings of our model. Find what businesses are prevalent in the missed counties.\n",
    "- Build models specifically for identifying purple districts where further investment might yield political seats.\n"
   ]
  }
 ],
 "metadata": {
  "kernelspec": {
   "display_name": "learn-env",
   "language": "python",
   "name": "learn-env"
  },
  "language_info": {
   "codemirror_mode": {
    "name": "ipython",
    "version": 3
   },
   "file_extension": ".py",
   "mimetype": "text/x-python",
   "name": "python",
   "nbconvert_exporter": "python",
   "pygments_lexer": "ipython3",
   "version": "3.6.9"
  }
 },
 "nbformat": 4,
 "nbformat_minor": 2
}
